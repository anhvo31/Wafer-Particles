{
 "cells": [
  {
   "cell_type": "code",
   "execution_count": 13,
   "metadata": {},
   "outputs": [],
   "source": [
    "# Downloads all of the necessary packages\n",
    "import numpy as np\n",
    "import pandas as pd\n",
    "from pandas import Series, DataFrame\n",
    "import matplotlib.pyplot as plt\n",
    "import scipy as sp\n",
    "import plotly.express as px\n",
    "from pathlib import Path\n",
    "import os, csv, sys"
   ]
  },
  {
   "cell_type": "code",
   "execution_count": 14,
   "metadata": {},
   "outputs": [
    {
     "name": "stdout",
     "output_type": "stream",
     "text": [
      "   Side     Grade Source/Destination  All  Lpd  Bin1  Bin2  Bin3  Bin4  Bin5  \\\n",
      "3     F  Rejected            1/5-1/5   67   35     4     2     3     3     1   \n",
      "0     F  Rejected          1/22-1/22  187  116     3     5     2    13     4   \n",
      "2     F  Rejected          1/10-1/10  299  124    10     7     8     7     4   \n",
      "1     F  Rejected          1/16-1/16  166   58     4     5     6     2     4   \n",
      "73    F  Rejected            1/2-1/2  712  657    10     4   208   152   122   \n",
      "..  ...       ...                ...  ...  ...   ...   ...   ...   ...   ...   \n",
      "29    F  Rejected          1/21-1/21   78   69    25    13    13     5     1   \n",
      "28    F  Rejected          1/22-1/22   23   16    10     1     3     1     0   \n",
      "27    F  Rejected          1/23-1/23   21   13     8     1     1     2     1   \n",
      "37    F  Rejected          1/13-1/13   37   31     9     3     1     4     1   \n",
      "51    F  Rejected          1/24-1/24  712  660    15     9   181   159   131   \n",
      "\n",
      "    Bin6  Bin7  Bin8               Session     Lot_ID      Date  Time  \n",
      "3      3     0     3           ZZBARESI_HT  LONG TEST  20221013  1657  \n",
      "0     10     3    10           ZZBARESI_HT  LONG TEST  20221013  1657  \n",
      "2      6     6    13           ZZBARESI_HT  LONG TEST  20221013  1657  \n",
      "1      1     1     5           ZZBARESI_HT  LONG TEST  20221013  1657  \n",
      "73   101    42    18  ZZBARESI_HT_MANUTEST  LONG TEST  20221205  1600  \n",
      "..   ...   ...   ...                   ...        ...       ...   ...  \n",
      "29     6     3     3  ZZBARESI_HT_MANUTEST  LONG TEST  20221205  1600  \n",
      "28     1     0     0  ZZBARESI_HT_MANUTEST  LONG TEST  20221205  1600  \n",
      "27     0     0     0  ZZBARESI_HT_MANUTEST  LONG TEST  20221205  1600  \n",
      "37     5     4     4  ZZBARESI_HT_MANUTEST  LONG TEST  20221205  1600  \n",
      "51    94    52    19  ZZBARESI_HT_MANUTEST  LONG TEST  20221205  1600  \n",
      "\n",
      "[104 rows x 17 columns]\n"
     ]
    },
    {
     "name": "stderr",
     "output_type": "stream",
     "text": [
      "C:\\Users\\anhtu\\AppData\\Local\\Temp\\ipykernel_17940\\1470578614.py:14: FutureWarning: The frame.append method is deprecated and will be removed from pandas in a future version. Use pandas.concat instead.\n",
      "  merged = df1.append(df2)\n"
     ]
    }
   ],
   "source": [
    "# Paste the path for the new excel file here\n",
    "path1 = r'C:\\Users\\anhtu\\Desktop\\Wafer Particles\\Wafer-Particles\\Parsed_Output\\ZZBARESI_HT_MANUTEST_20221205_1600.csv'\n",
    "\n",
    "# Paste the path for the master excel file here\n",
    "# Path2 and result should be the same file\n",
    "path2 = r'C:\\Users\\anhtu\\Desktop\\Wafer Particles\\Wafer-Particles\\Wafer_Particles.csv'\n",
    "result = r'C:\\Users\\anhtu\\Desktop\\Wafer Particles\\Wafer-Particles\\Wafer_Particles.csv'\n",
    "\n",
    "# Using pandas to read the excel file\n",
    "df1 = pd.read_csv(path1)\n",
    "df2 = pd.read_csv(path2)\n",
    "\n",
    "# Merges the two files\n",
    "merged = df1.append(df2)\n",
    "merged = merged.sort_values('Date')\n",
    "\n",
    "# Exports merged file to master excel file\n",
    "merged.to_csv(result, encoding='utf-8', index=False)\n",
    "print(merged)"
   ]
  }
 ],
 "metadata": {
  "kernelspec": {
   "display_name": "Python 3",
   "language": "python",
   "name": "python3"
  },
  "language_info": {
   "codemirror_mode": {
    "name": "ipython",
    "version": 3
   },
   "file_extension": ".py",
   "mimetype": "text/x-python",
   "name": "python",
   "nbconvert_exporter": "python",
   "pygments_lexer": "ipython3",
   "version": "3.10.4"
  },
  "orig_nbformat": 4,
  "vscode": {
   "interpreter": {
    "hash": "369f2c481f4da34e4445cda3fffd2e751bd1c4d706f27375911949ba6bb62e1c"
   }
  }
 },
 "nbformat": 4,
 "nbformat_minor": 2
}
