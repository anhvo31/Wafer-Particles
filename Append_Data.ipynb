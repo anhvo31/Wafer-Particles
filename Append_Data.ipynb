{
 "cells": [
  {
   "cell_type": "code",
   "execution_count": 3,
   "metadata": {},
   "outputs": [],
   "source": [
    "# Downloads all of the necessary packages\n",
    "import numpy as np\n",
    "import pandas as pd\n",
    "from pandas import Series, DataFrame\n",
    "import matplotlib.pyplot as plt\n",
    "import scipy as sp\n",
    "import plotly.express as px\n",
    "from pathlib import Path\n",
    "import os, csv, sys"
   ]
  },
  {
   "cell_type": "code",
   "execution_count": 4,
   "metadata": {},
   "outputs": [
    {
     "name": "stdout",
     "output_type": "stream",
     "text": [
      "   Side     Grade Source/Destination  All  Lpd Bin1 Bin2 Bin3 Bin4 Bin5 Bin6  \\\n",
      "0     F  Rejected          1/25-1/25  833  775   50   38  216  162  129  110   \n",
      "72    F  Rejected            1/3-1/3  719  642   17    8  208  157  118   80   \n",
      "71    F  Rejected            1/4-1/4  841  755    6    8  208  184  146  131   \n",
      "70    F  Rejected            1/5-1/5  718  657   10    4  185  177  128   92   \n",
      "69    F  Rejected            1/6-1/6  702  614    8    4  190  150  115   78   \n",
      "..  ...       ...                ...  ...  ...  ...  ...  ...  ...  ...  ...   \n",
      "28    F  Rejected          1/22-1/22   23   16   10    1    3    1    0    1   \n",
      "27    F  Rejected          1/23-1/23   21   13    8    1    1    2    1    0   \n",
      "26    F  Rejected          1/24-1/24   30   23    9    4    5    1    2    1   \n",
      "36    F  Rejected          1/14-1/14  228  175  105   24    9   10    6    6   \n",
      "99    F  Rejected            1/1-1/1   83   54   23   11    5    3    5    4   \n",
      "\n",
      "   Bin7 Bin8               Session     Lot_ID      Date  Time  \n",
      "0    59   11  ZZBARESI_HT_MANUTEST  LONG TEST  20221205  1600  \n",
      "72   43   11  ZZBARESI_HT_MANUTEST  LONG TEST  20221205  1600  \n",
      "71   59   13  ZZBARESI_HT_MANUTEST  LONG TEST  20221205  1600  \n",
      "70   47   14  ZZBARESI_HT_MANUTEST  LONG TEST  20221205  1600  \n",
      "69   58   11  ZZBARESI_HT_MANUTEST  LONG TEST  20221205  1600  \n",
      "..  ...  ...                   ...        ...       ...   ...  \n",
      "28    0    0  ZZBARESI_HT_MANUTEST  LONG TEST  20221205  1600  \n",
      "27    0    0  ZZBARESI_HT_MANUTEST  LONG TEST  20221205  1600  \n",
      "26    0    1  ZZBARESI_HT_MANUTEST  LONG TEST  20221205  1600  \n",
      "36    7    8  ZZBARESI_HT_MANUTEST  LONG TEST  20221205  1600  \n",
      "99    0    3  ZZBARESI_HT_MANUTEST  LONG TEST  20221205  1600  \n",
      "\n",
      "[100 rows x 17 columns]\n"
     ]
    },
    {
     "name": "stderr",
     "output_type": "stream",
     "text": [
      "C:\\Users\\anhtu\\AppData\\Local\\Temp\\ipykernel_1692\\3983416986.py:13: FutureWarning: The frame.append method is deprecated and will be removed from pandas in a future version. Use pandas.concat instead.\n",
      "  merged = df1.append(df2)\n"
     ]
    }
   ],
   "source": [
    "# Paste the path for the new excel file in Parsed_Output file here\n",
    "# path1 = \"../../Wafer Particles/Wafer-Particles/Parsed_Output/ZZBARESI_HT_MANUTEST_20221205_1600.csv\"\n",
    "print(\"Append_Data is running.\")\n",
    "# Paste the path for the master excel file here\n",
    "# Path2 and result should be the same file\n",
    "path2 = \"../../Wafer-Particles-main/Wafer-Particles-main/Wafer_Particles.csv\"\n",
    "result = \"../../Wafer-Particles-main/Wafer-Particles-main/Wafer_Particles.csv\"\n",
    "\n",
    "# Using pandas to read the excel file\n",
    "df1 = pd.read_csv(path1)\n",
    "df2 = pd.read_csv(path2)\n",
    "\n",
    "# Merges the two files\n",
    "merged = df1.append(df2)\n",
    "merged = merged.sort_values('Date')\n",
    "\n",
    "# Exports merged file to master excel file\n",
    "merged.to_csv(result, encoding='utf-8', index=False)\n",
    "print(merged)"
   ]
  }
 ],
 "metadata": {
  "kernelspec": {
   "display_name": "Python 3",
   "language": "python",
   "name": "python3"
  },
  "language_info": {
   "codemirror_mode": {
    "name": "ipython",
    "version": 3
   },
   "file_extension": ".py",
   "mimetype": "text/x-python",
   "name": "python",
   "nbconvert_exporter": "python",
   "pygments_lexer": "ipython3",
   "version": "3.10.4"
  },
  "orig_nbformat": 4,
  "vscode": {
   "interpreter": {
    "hash": "369f2c481f4da34e4445cda3fffd2e751bd1c4d706f27375911949ba6bb62e1c"
   }
  }
 },
 "nbformat": 4,
 "nbformat_minor": 2
}
