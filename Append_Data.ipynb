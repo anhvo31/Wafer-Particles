{
 "cells": [
  {
   "cell_type": "code",
   "execution_count": 3,
   "metadata": {},
   "outputs": [],
   "source": [
    "# Downloads all of the necessary packages\n",
    "import pandas as pd"
   ]
  },
  {
   "cell_type": "code",
   "execution_count": null,
   "metadata": {},
   "outputs": [],
   "source": [
    "print(\"Append_Data is running.\")\n",
    "\n",
    "# Path2 and result should be the same file\n",
    "path2 = \"../../Wafer-Particles-main/Wafer-Particles-main/Wafer_Particles.csv\"\n",
    "result = \"../../Wafer-Particles-main/Wafer-Particles-main/Wafer_Particles.csv\"\n",
    "\n",
    "# Using pandas to read the excel file\n",
    "df1 = pd.read_csv(path1)\n",
    "df2 = pd.read_csv(path2)\n",
    "\n",
    "# Merges the two files\n",
    "merged = pd.concat([df1, df2])\n",
    "\n",
    "# Exports merged file to master excel file\n",
    "merged.to_csv(result, encoding='utf-8', index=False)\n",
    "print(merged)"
   ]
  }
 ],
 "metadata": {
  "kernelspec": {
   "display_name": "Python 3",
   "language": "python",
   "name": "python3"
  },
  "language_info": {
   "codemirror_mode": {
    "name": "ipython",
    "version": 3
   },
   "file_extension": ".py",
   "mimetype": "text/x-python",
   "name": "python",
   "nbconvert_exporter": "python",
   "pygments_lexer": "ipython3",
   "version": "3.10.4 (tags/v3.10.4:9d38120, Mar 23 2022, 23:13:41) [MSC v.1929 64 bit (AMD64)]"
  },
  "orig_nbformat": 4,
  "vscode": {
   "interpreter": {
    "hash": "369f2c481f4da34e4445cda3fffd2e751bd1c4d706f27375911949ba6bb62e1c"
   }
  }
 },
 "nbformat": 4,
 "nbformat_minor": 2
}
