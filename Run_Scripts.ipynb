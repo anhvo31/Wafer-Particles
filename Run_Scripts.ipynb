{
 "cells": [
  {
   "attachments": {},
   "cell_type": "markdown",
   "metadata": {},
   "source": [
    "# Silicon Wafer Particles Data Analysis\n",
    "\n",
    "Purpose: This code provides a temporary solution for interpretation of particle counter tool summary output files. As is, the output files may be hard to intepret and provides unnecessary information for operations. Our goal is to be able to parse these text files and provide a digestible output."
   ]
  },
  {
   "cell_type": "code",
   "execution_count": 9,
   "metadata": {},
   "outputs": [],
   "source": [
    "# Downloading all of the necessary packages\n",
    "import numpy as np\n",
    "import pandas as pd\n",
    "from pandas import Series, DataFrame\n",
    "import matplotlib.pyplot as plt\n",
    "import scipy as sp\n",
    "import plotly.express as px\n",
    "from pathlib import Path\n",
    "import os\n",
    "import nbformat"
   ]
  },
  {
   "cell_type": "code",
   "execution_count": null,
   "metadata": {},
   "outputs": [],
   "source": [
    "summary_TXT_directory = os.fsencode(\"../../Wafer-Particles-main/Wafer-Particles-main/Summary_TXT_Files\")\n",
    "\n",
    "# Converts all .txt files to .csv files and store them in Parsed_Output folder\n",
    "for file in os.listdir(summary_TXT_directory):\n",
    "    filename = os.fsdecode(file)\n",
    "    if filename.endswith(\".txt\"):\n",
    "        file_path = f'../../Wafer-Particles-main/Wafer-Particles-main/Summary_TXT_Files/{filename}'\n",
    "        %run Data_Summary_Analysis.ipynb\n",
    "    else:\n",
    "        continue"
   ]
  },
  {
   "cell_type": "code",
   "execution_count": null,
   "metadata": {},
   "outputs": [],
   "source": [
    "parsed_output_directory = os.fsencode(\"../../Wafer-Particles-main/Wafer-Particles-main/Parsed_Output\")\n",
    "\n",
    "# Appends data from all .csv files in Parsed_Output folder to Wafer_Particles.csv\n",
    "for file in os.listdir(parsed_output_directory):\n",
    "    filename = os.fsdecode(file)\n",
    "    if filename.endswith(\".csv\"):\n",
    "        path1 = f'../../Wafer-Particles-main/Wafer-Particles-main/Parsed_Output/{filename}'\n",
    "        %run Append_Data.ipynb\n",
    "    else:\n",
    "        continue"
   ]
  },
  {
   "cell_type": "code",
   "execution_count": null,
   "metadata": {},
   "outputs": [],
   "source": [
    "# Relative path to read master excel file\n",
    "masterFile = \"../../Wafer-Particles-main/Wafer-Particles-main/Wafer_Particles.csv\"\n",
    "\n",
    "df1 = pd.read_csv(masterFile)\n",
    "\n",
    "# Filtering the dataframe for a specific slot\n",
    "df2 = df1.loc[df1['Source/Destination'].eq('1/5-1/5')]\n",
    "print(df2)\n",
    "\n",
    "# Generates scatter plot based on axis values\n",
    "df2.plot.scatter(x='Date', y='Lpd')"
   ]
  }
 ],
 "metadata": {
  "kernelspec": {
   "display_name": "Python 3",
   "language": "python",
   "name": "python3"
  },
  "language_info": {
   "codemirror_mode": {
    "name": "ipython",
    "version": 3
   },
   "file_extension": ".py",
   "mimetype": "text/x-python",
   "name": "python",
   "nbconvert_exporter": "python",
   "pygments_lexer": "ipython3",
   "version": "3.10.4 (tags/v3.10.4:9d38120, Mar 23 2022, 23:13:41) [MSC v.1929 64 bit (AMD64)]"
  },
  "orig_nbformat": 4,
  "vscode": {
   "interpreter": {
    "hash": "369f2c481f4da34e4445cda3fffd2e751bd1c4d706f27375911949ba6bb62e1c"
   }
  }
 },
 "nbformat": 4,
 "nbformat_minor": 2
}
