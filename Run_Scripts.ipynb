{
 "cells": [
  {
   "cell_type": "code",
   "execution_count": 9,
   "metadata": {},
   "outputs": [],
   "source": [
    "#First, Downloading all of the necessary packages\n",
    "import numpy as np\n",
    "import pandas as pd\n",
    "from pandas import Series, DataFrame\n",
    "import matplotlib.pyplot as plt\n",
    "import scipy as sp\n",
    "import plotly.express as px\n",
    "from pathlib import Path\n",
    "import os\n",
    "import nbformat"
   ]
  },
  {
   "cell_type": "code",
   "execution_count": 10,
   "metadata": {},
   "outputs": [
    {
     "name": "stdout",
     "output_type": "stream",
     "text": [
      "ZZBARESI_HT_20221013_1657.txt\n",
      "../../Wafer Particles/Wafer-Particles/Summary_TXT_Files/ZZBARESI_HT_20221013_1657.txt\n",
      "data_summary_analysis has been ran\n",
      "ZZBARESI_HT_20221013_1657\n",
      "202210131657\n",
      "20221013\n",
      "1657\n",
      "ZZBARESI_HT\n",
      "LONG TEST\n",
      "ZZBARESI_HT_MANUTEST_20221205_1600.txt\n",
      "../../Wafer Particles/Wafer-Particles/Summary_TXT_Files/ZZBARESI_HT_MANUTEST_20221205_1600.txt\n",
      "data_summary_analysis has been ran\n",
      "ZZBARESI_HT_MANUTEST_20221205_1600\n",
      "202212051600\n",
      "20221205\n",
      "1600\n",
      "ZZBARESI_HT_MANUTEST\n",
      "LONG TEST\n"
     ]
    },
    {
     "name": "stderr",
     "output_type": "stream",
     "text": [
      "C:\\Users\\anhtu\\AppData\\Local\\Temp\\ipykernel_18472\\2573405678.py:2: FutureWarning: In a future version of pandas all arguments of StringMethods.split except for the argument 'pat' will be keyword-only.\n",
      "  df = df.str.split(' ',22, expand=True)\n",
      "C:\\Users\\anhtu\\AppData\\Local\\Temp\\ipykernel_18472\\2573405678.py:2: FutureWarning: In a future version of pandas all arguments of StringMethods.split except for the argument 'pat' will be keyword-only.\n",
      "  df = df.str.split(' ',22, expand=True)\n"
     ]
    }
   ],
   "source": [
    "summary_TXT_directory = os.fsencode(\"../../Wafer Particles/Wafer-Particles/Summary_TXT_Files\")\n",
    "\n",
    "for file in os.listdir(summary_TXT_directory):\n",
    "    filename = os.fsdecode(file)\n",
    "    if filename.endswith(\".txt\"):\n",
    "        file_path = f'../../Wafer Particles/Wafer-Particles/Summary_TXT_Files/{filename}'\n",
    "        %run Data_Summary_Analysis.ipynb\n",
    "    else:\n",
    "        continue"
   ]
  },
  {
   "cell_type": "code",
   "execution_count": 12,
   "metadata": {},
   "outputs": [
    {
     "name": "stdout",
     "output_type": "stream",
     "text": [
      "Append_Data is running.\n",
      "  Side     Grade Source/Destination  All  Lpd Bin1 Bin2 Bin3 Bin4 Bin5 Bin6  \\\n",
      "0    F  Rejected          1/22-1/22  187  116    3    5    2   13    4   10   \n",
      "1    F  Rejected          1/16-1/16  166   58    4    5    6    2    4    1   \n",
      "2    F  Rejected          1/10-1/10  299  124   10    7    8    7    4    6   \n",
      "3    F  Rejected            1/5-1/5   67   35    4    2    3    3    1    3   \n",
      "\n",
      "  Bin7 Bin8      Session     Lot_ID      Date  Time  \n",
      "0    3   10  ZZBARESI_HT  LONG TEST  20221013  1657  \n",
      "1    1    5  ZZBARESI_HT  LONG TEST  20221013  1657  \n",
      "2    6   13  ZZBARESI_HT  LONG TEST  20221013  1657  \n",
      "3    0    3  ZZBARESI_HT  LONG TEST  20221013  1657  \n",
      "Append_Data is running.\n",
      "   Side     Grade Source/Destination  All  Lpd  Bin1  Bin2  Bin3  Bin4  Bin5  \\\n",
      "3     F  Rejected            1/5-1/5   67   35     4     2     3     3     1   \n",
      "0     F  Rejected          1/22-1/22  187  116     3     5     2    13     4   \n",
      "2     F  Rejected          1/10-1/10  299  124    10     7     8     7     4   \n",
      "1     F  Rejected          1/16-1/16  166   58     4     5     6     2     4   \n",
      "73    F  Rejected            1/2-1/2  712  657    10     4   208   152   122   \n",
      "..  ...       ...                ...  ...  ...   ...   ...   ...   ...   ...   \n",
      "29    F  Rejected          1/21-1/21   78   69    25    13    13     5     1   \n",
      "28    F  Rejected          1/22-1/22   23   16    10     1     3     1     0   \n",
      "27    F  Rejected          1/23-1/23   21   13     8     1     1     2     1   \n",
      "37    F  Rejected          1/13-1/13   37   31     9     3     1     4     1   \n",
      "51    F  Rejected          1/24-1/24  712  660    15     9   181   159   131   \n",
      "\n",
      "    Bin6  Bin7  Bin8               Session     Lot_ID      Date  Time  \n",
      "3      3     0     3           ZZBARESI_HT  LONG TEST  20221013  1657  \n",
      "0     10     3    10           ZZBARESI_HT  LONG TEST  20221013  1657  \n",
      "2      6     6    13           ZZBARESI_HT  LONG TEST  20221013  1657  \n",
      "1      1     1     5           ZZBARESI_HT  LONG TEST  20221013  1657  \n",
      "73   101    42    18  ZZBARESI_HT_MANUTEST  LONG TEST  20221205  1600  \n",
      "..   ...   ...   ...                   ...        ...       ...   ...  \n",
      "29     6     3     3  ZZBARESI_HT_MANUTEST  LONG TEST  20221205  1600  \n",
      "28     1     0     0  ZZBARESI_HT_MANUTEST  LONG TEST  20221205  1600  \n",
      "27     0     0     0  ZZBARESI_HT_MANUTEST  LONG TEST  20221205  1600  \n",
      "37     5     4     4  ZZBARESI_HT_MANUTEST  LONG TEST  20221205  1600  \n",
      "51    94    52    19  ZZBARESI_HT_MANUTEST  LONG TEST  20221205  1600  \n",
      "\n",
      "[104 rows x 17 columns]\n"
     ]
    },
    {
     "name": "stderr",
     "output_type": "stream",
     "text": [
      "C:\\Users\\anhtu\\AppData\\Local\\Temp\\ipykernel_18472\\553505940.py:14: FutureWarning: The frame.append method is deprecated and will be removed from pandas in a future version. Use pandas.concat instead.\n",
      "  merged = df1.append(df2)\n",
      "C:\\Users\\anhtu\\AppData\\Local\\Temp\\ipykernel_18472\\553505940.py:14: FutureWarning: The frame.append method is deprecated and will be removed from pandas in a future version. Use pandas.concat instead.\n",
      "  merged = df1.append(df2)\n"
     ]
    }
   ],
   "source": [
    "parsed_output_directory = os.fsencode(\"../../Wafer Particles/Wafer-Particles/Parsed_Output\")\n",
    "\n",
    "for file in os.listdir(parsed_output_directory):\n",
    "    filename = os.fsdecode(file)\n",
    "    if filename.endswith(\".csv\"):\n",
    "        path1 = f'../../Wafer Particles/Wafer-Particles/Parsed_Output/{filename}'\n",
    "        %run Append_Data.ipynb\n",
    "    else:\n",
    "        continue"
   ]
  },
  {
   "cell_type": "code",
   "execution_count": 23,
   "metadata": {},
   "outputs": [
    {
     "name": "stdout",
     "output_type": "stream",
     "text": [
      "   Side     Grade Source/Destination  All  Lpd  Bin1  Bin2  Bin3  Bin4  Bin5  \\\n",
      "0     F  Rejected            1/5-1/5   67   35     4     2     3     3     1   \n",
      "7     F  Rejected            1/5-1/5  718  657    10     4   185   177   128   \n",
      "32    F  Rejected            1/5-1/5   46   35    12     8     1     6     3   \n",
      "56    F  Rejected            1/5-1/5  711  651    13     4   185   178   130   \n",
      "83    F  Rejected            1/5-1/5   46   33    11     7     1     6     3   \n",
      "\n",
      "    Bin6  Bin7  Bin8               Session     Lot_ID      Date  Time  \n",
      "0      3     0     3           ZZBARESI_HT  LONG TEST  20221013  1657  \n",
      "7     92    47    14  ZZBARESI_HT_MANUTEST  LONG TEST  20221205  1600  \n",
      "32     2     2     1  ZZBARESI_HT_MANUTEST  LONG TEST  20221205  1600  \n",
      "56    74    54    13  ZZBARESI_HT_MANUTEST  LONG TEST  20221205  1600  \n",
      "83     2     2     1  ZZBARESI_HT_MANUTEST  LONG TEST  20221205  1600  \n"
     ]
    },
    {
     "data": {
      "text/plain": [
       "<AxesSubplot: xlabel='Date', ylabel='Lpd'>"
      ]
     },
     "execution_count": 23,
     "metadata": {},
     "output_type": "execute_result"
    },
    {
     "data": {
      "image/png": "[encoded data removed]",
      "text/plain": [
       "<Figure size 640x480 with 1 Axes>"
      ]
     },
     "metadata": {},
     "output_type": "display_data"
    }
   ],
   "source": [
    "# Relative path to read master excel file\n",
    "masterFile = \"../../Wafer Particles/Wafer-Particles/Wafer_Particles.csv\"\n",
    "\n",
    "df1 = pd.read_csv(masterFile)\n",
    "\n",
    "# Filtering the dataframe for a specific slot\n",
    "df2 = df1.loc[df1['Source/Destination'].eq('1/5-1/5')]\n",
    "print(df2)\n",
    "\n",
    "# Generates scatter plot based on axis values\n",
    "df2.plot.scatter(x='Date', y='Lpd')"
   ]
  }
 ],
 "metadata": {
  "kernelspec": {
   "display_name": "Python 3",
   "language": "python",
   "name": "python3"
  },
  "language_info": {
   "codemirror_mode": {
    "name": "ipython",
    "version": 3
   },
   "file_extension": ".py",
   "mimetype": "text/x-python",
   "name": "python",
   "nbconvert_exporter": "python",
   "pygments_lexer": "ipython3",
   "version": "3.10.4"
  },
  "orig_nbformat": 4,
  "vscode": {
   "interpreter": {
    "hash": "369f2c481f4da34e4445cda3fffd2e751bd1c4d706f27375911949ba6bb62e1c"
   }
  }
 },
 "nbformat": 4,
 "nbformat_minor": 2
}
